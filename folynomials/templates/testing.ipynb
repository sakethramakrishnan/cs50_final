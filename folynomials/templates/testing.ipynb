{
 "cells": [
  {
   "cell_type": "code",
   "execution_count": 1,
   "metadata": {},
   "outputs": [],
   "source": [
    "import math\n",
    "\n",
    "def solve_quadratic(a, b, c):\n",
    "    # Calculate the discriminant\n",
    "    discriminant = b**2 - 4*a*c\n",
    "    \n",
    "    # Check if the discriminant is negative, zero, or positive\n",
    "    if discriminant < 0:\n",
    "        # No real roots\n",
    "        return \"The equation has no real roots\"\n",
    "    elif discriminant == 0:\n",
    "        # One real root\n",
    "        x = -b / (2*a)\n",
    "        return (x,)\n",
    "    else:\n",
    "        # Two real roots\n",
    "        sqrt_discriminant = math.sqrt(discriminant)\n",
    "        x1 = (-b + sqrt_discriminant) / (2*a)\n",
    "        x2 = (-b - sqrt_discriminant) / (2*a)\n",
    "        return (x1, x2)"
   ]
  },
  {
   "cell_type": "code",
   "execution_count": 3,
   "metadata": {},
   "outputs": [
    {
     "name": "stdout",
     "output_type": "stream",
     "text": [
      "The roots of the equation are: (1.0,)\n"
     ]
    }
   ],
   "source": [
    "a = 1\n",
    "b = -2\n",
    "c = 1\n",
    "\n",
    "roots = solve_quadratic(a, b, c)\n",
    "print(f\"The roots of the equation are: {roots}\")"
   ]
  }
 ],
 "metadata": {
  "kernelspec": {
   "display_name": "Python 3.10.12 64-bit",
   "language": "python",
   "name": "python3"
  },
  "language_info": {
   "codemirror_mode": {
    "name": "ipython",
    "version": 3
   },
   "file_extension": ".py",
   "mimetype": "text/x-python",
   "name": "python",
   "nbconvert_exporter": "python",
   "pygments_lexer": "ipython3",
   "version": "3.10.12"
  },
  "orig_nbformat": 4,
  "vscode": {
   "interpreter": {
    "hash": "31f2aee4e71d21fbe5cf8b01ff0e069b9275f58929596ceb00d14d90e3e16cd6"
   }
  }
 },
 "nbformat": 4,
 "nbformat_minor": 2
}
